{
 "cells": [
  {
   "cell_type": "markdown",
   "metadata": {},
   "source": [
    "# Support Vector Machine: Regression\n",
    "\n",
    "We are still concerned with classification issues. In typical SVM we know that the only data that matters are the support vectors in terms of fitting the model, we don't care about the data lying beyond the epsilon margin. Similarly, SVR is also only concerned with a subset of the training data.\n",
    "\n",
    "Three different types of support vector regression: SVR, NuSVR and linearSVR. \n",
    "    Linear SVR is a faster implementation but assumes the relationship between the support vectors is linear and thus only uses linear kernel.\n",
    "    NuSVR uses the parameter nu to control for the number of support vectors, nu in NuSVR replaces the epsilon in regular SVR/SVM-- nu is an upper bound on the fraction of training errors and lower bound on the fraction of support vectors, e.g. if interval set is 0,1 the split is 0.5 upper and 0.5 lower\n",
    "    \n",
    "Similar to all other SVM models we need to classify a target vector. The model will also accept X,y vectors. However, in SVR, the y or target are float numbers"
   ]
  },
  {
   "cell_type": "code",
   "execution_count": 1,
   "metadata": {},
   "outputs": [],
   "source": [
    "# USE THIS\n",
    "import seaborn as sns\n",
    "import pandas as pd\n",
    "import numpy as np\n",
    "import matplotlib.pyplot as plt"
   ]
  },
  {
   "cell_type": "code",
   "execution_count": 2,
   "metadata": {},
   "outputs": [
    {
     "data": {
      "text/plain": [
       "(500, 9)"
      ]
     },
     "execution_count": 2,
     "metadata": {},
     "output_type": "execute_result"
    }
   ],
   "source": [
    "## USE THIS\n",
    "\n",
    "df = pd.read_csv('Admission_Predict_Ver1.1.csv')\n",
    "df.shape\n"
   ]
  },
  {
   "cell_type": "code",
   "execution_count": 3,
   "metadata": {},
   "outputs": [
    {
     "data": {
      "text/html": [
       "<div>\n",
       "<style scoped>\n",
       "    .dataframe tbody tr th:only-of-type {\n",
       "        vertical-align: middle;\n",
       "    }\n",
       "\n",
       "    .dataframe tbody tr th {\n",
       "        vertical-align: top;\n",
       "    }\n",
       "\n",
       "    .dataframe thead th {\n",
       "        text-align: right;\n",
       "    }\n",
       "</style>\n",
       "<table border=\"1\" class=\"dataframe\">\n",
       "  <thead>\n",
       "    <tr style=\"text-align: right;\">\n",
       "      <th></th>\n",
       "      <th>GRE Score</th>\n",
       "      <th>TOEFL Score</th>\n",
       "      <th>University Rating</th>\n",
       "      <th>SOP</th>\n",
       "      <th>LOR</th>\n",
       "      <th>CGPA</th>\n",
       "      <th>Research</th>\n",
       "      <th>Chance of Admit</th>\n",
       "    </tr>\n",
       "  </thead>\n",
       "  <tbody>\n",
       "    <tr>\n",
       "      <th>0</th>\n",
       "      <td>337</td>\n",
       "      <td>118</td>\n",
       "      <td>4</td>\n",
       "      <td>4.5</td>\n",
       "      <td>4.5</td>\n",
       "      <td>9.65</td>\n",
       "      <td>1</td>\n",
       "      <td>0.92</td>\n",
       "    </tr>\n",
       "    <tr>\n",
       "      <th>1</th>\n",
       "      <td>324</td>\n",
       "      <td>107</td>\n",
       "      <td>4</td>\n",
       "      <td>4.0</td>\n",
       "      <td>4.5</td>\n",
       "      <td>8.87</td>\n",
       "      <td>1</td>\n",
       "      <td>0.76</td>\n",
       "    </tr>\n",
       "    <tr>\n",
       "      <th>2</th>\n",
       "      <td>316</td>\n",
       "      <td>104</td>\n",
       "      <td>3</td>\n",
       "      <td>3.0</td>\n",
       "      <td>3.5</td>\n",
       "      <td>8.00</td>\n",
       "      <td>1</td>\n",
       "      <td>0.72</td>\n",
       "    </tr>\n",
       "    <tr>\n",
       "      <th>3</th>\n",
       "      <td>322</td>\n",
       "      <td>110</td>\n",
       "      <td>3</td>\n",
       "      <td>3.5</td>\n",
       "      <td>2.5</td>\n",
       "      <td>8.67</td>\n",
       "      <td>1</td>\n",
       "      <td>0.80</td>\n",
       "    </tr>\n",
       "    <tr>\n",
       "      <th>4</th>\n",
       "      <td>314</td>\n",
       "      <td>103</td>\n",
       "      <td>2</td>\n",
       "      <td>2.0</td>\n",
       "      <td>3.0</td>\n",
       "      <td>8.21</td>\n",
       "      <td>0</td>\n",
       "      <td>0.65</td>\n",
       "    </tr>\n",
       "  </tbody>\n",
       "</table>\n",
       "</div>"
      ],
      "text/plain": [
       "   GRE Score  TOEFL Score  University Rating  SOP  LOR   CGPA  Research  \\\n",
       "0        337          118                  4  4.5   4.5  9.65         1   \n",
       "1        324          107                  4  4.0   4.5  8.87         1   \n",
       "2        316          104                  3  3.0   3.5  8.00         1   \n",
       "3        322          110                  3  3.5   2.5  8.67         1   \n",
       "4        314          103                  2  2.0   3.0  8.21         0   \n",
       "\n",
       "   Chance of Admit   \n",
       "0              0.92  \n",
       "1              0.76  \n",
       "2              0.72  \n",
       "3              0.80  \n",
       "4              0.65  "
      ]
     },
     "execution_count": 3,
     "metadata": {},
     "output_type": "execute_result"
    }
   ],
   "source": [
    "df= df.drop(['Serial No.'], axis=1)\n",
    "df.head()"
   ]
  },
  {
   "cell_type": "code",
   "execution_count": 4,
   "metadata": {},
   "outputs": [
    {
     "data": {
      "text/plain": [
       "GRE Score              int64\n",
       "TOEFL Score            int64\n",
       "University Rating      int64\n",
       "SOP                  float64\n",
       "LOR                  float64\n",
       "CGPA                 float64\n",
       "Research               int64\n",
       "Chance of Admit      float64\n",
       "dtype: object"
      ]
     },
     "execution_count": 4,
     "metadata": {},
     "output_type": "execute_result"
    }
   ],
   "source": [
    "# USE THIS\n",
    "df.dtypes"
   ]
  },
  {
   "cell_type": "markdown",
   "metadata": {},
   "source": [
    "# Creating the features DF and target vector"
   ]
  },
  {
   "cell_type": "code",
   "execution_count": 5,
   "metadata": {},
   "outputs": [
    {
     "data": {
      "image/png": "[encoded data removed]",
      "text/plain": [
       "<Figure size 720x720 with 20 Axes>"
      ]
     },
     "metadata": {
      "needs_background": "light"
     },
     "output_type": "display_data"
    }
   ],
   "source": [
    "sns.pairplot(df, vars= ['GRE Score', 'TOEFL Score', 'University Rating', 'CGPA']);"
   ]
  },
  {
   "cell_type": "code",
   "execution_count": 6,
   "metadata": {},
   "outputs": [
    {
     "data": {
      "image/png": "[encoded data removed]",
      "text/plain": [
       "<Figure size 432x288 with 2 Axes>"
      ]
     },
     "metadata": {
      "needs_background": "light"
     },
     "output_type": "display_data"
    }
   ],
   "source": [
    "sns.heatmap(df.corr(), annot=True);"
   ]
  },
  {
   "cell_type": "code",
   "execution_count": 7,
   "metadata": {},
   "outputs": [
    {
     "data": {
      "text/plain": [
       "array([[337.  , 118.  ,   4.  ,   4.5 ,   4.5 ,   9.65],\n",
       "       [324.  , 107.  ,   4.  ,   4.  ,   4.5 ,   8.87],\n",
       "       [316.  , 104.  ,   3.  ,   3.  ,   3.5 ,   8.  ],\n",
       "       ...,\n",
       "       [330.  , 120.  ,   5.  ,   4.5 ,   5.  ,   9.56],\n",
       "       [312.  , 103.  ,   4.  ,   4.  ,   5.  ,   8.43],\n",
       "       [327.  , 113.  ,   4.  ,   4.5 ,   4.5 ,   9.04]])"
      ]
     },
     "execution_count": 7,
     "metadata": {},
     "output_type": "execute_result"
    }
   ],
   "source": [
    "df_features = df.drop(['Chance of Admit ', 'Research', ], axis=1)\n",
    "\n",
    "\n",
    "# USE THIS\n",
    "X = df_features.to_numpy()\n",
    "X\n"
   ]
  },
  {
   "cell_type": "code",
   "execution_count": 8,
   "metadata": {},
   "outputs": [
    {
     "data": {
      "text/plain": [
       "array([0.76, 0.72, 0.8 , 0.65, 0.9 , 0.75, 0.68, 0.5 , 0.45, 0.52, 0.84,\n",
       "       0.78, 0.62, 0.61, 0.54, 0.66, 0.65, 0.63, 0.62])"
      ]
     },
     "execution_count": 8,
     "metadata": {},
     "output_type": "execute_result"
    }
   ],
   "source": [
    "# USE THIS\n",
    "\n",
    "y = df['Chance of Admit '].to_numpy()\n",
    "y[1:20]"
   ]
  },
  {
   "cell_type": "markdown",
   "metadata": {},
   "source": [
    "# Creating the training and test sets"
   ]
  },
  {
   "cell_type": "code",
   "execution_count": 9,
   "metadata": {},
   "outputs": [],
   "source": [
    "# USE THIS\n",
    "from sklearn.model_selection import train_test_split"
   ]
  },
  {
   "cell_type": "code",
   "execution_count": 10,
   "metadata": {},
   "outputs": [
    {
     "name": "stdout",
     "output_type": "stream",
     "text": [
      "(400, 6)\n",
      "(100, 6)\n",
      "(400,)\n",
      "(100,)\n"
     ]
    }
   ],
   "source": [
    "X_train, X_test, y_train, y_test = train_test_split(X,y, test_size = 0.2, random_state=20)\n",
    "print(X_train.shape)\n",
    "print(X_test.shape)\n",
    "print(y_train.shape)\n",
    "print(y_test.shape)\n",
    "\n"
   ]
  },
  {
   "cell_type": "code",
   "execution_count": 11,
   "metadata": {},
   "outputs": [
    {
     "name": "stdout",
     "output_type": "stream",
     "text": [
      "[[337.   118.     4.     4.5    4.5    9.65]\n",
      " [324.   107.     4.     4.     4.5    8.87]\n",
      " [316.   104.     3.     3.     3.5    8.  ]\n",
      " ...\n",
      " [330.   120.     5.     4.5    5.     9.56]\n",
      " [312.   103.     4.     4.     5.     8.43]\n",
      " [327.   113.     4.     4.5    4.5    9.04]]\n",
      "[0.76 0.72 0.8  0.65 0.9  0.75 0.68 0.5  0.45 0.52 0.84 0.78 0.62 0.61\n",
      " 0.54 0.66 0.65 0.63 0.62]\n"
     ]
    }
   ],
   "source": [
    "#USE THIS\n",
    "\n",
    "# instead of doing this here we want to keep all data into one vector.\n",
    "print(X)\n",
    "print(y[1:20,])"
   ]
  },
  {
   "cell_type": "markdown",
   "metadata": {},
   "source": [
    "# Feature Scaling\n",
    "\n",
    "Here we will standardize the scale of each feature set. We do this becasue the scale or measurement units for each feature will not be uniform and thus we may end up with data points that should not necessarily be combined. We may have variables which vary much more than another. In this instance we may have a variable such as GRE score which has a much higher range and std compared with research or Letters of recommendation (LOR). In order to account for this we need to conduct feature scaling which will normalize and standardize all the measured features and center them around 0. This decreases the chance that one variable which has high variability inadvertently acccounts for a disproportionate amount of the variance in the model. For an example see [here](https://scikit-learn.org/stable/auto_examples/preprocessing/plot_scaling_importance.html).  Also if interested in the understanding why the scaler doesn't get the scaled mean or your features to exactly '0' then read [this](https://stackoverflow.com/questions/40405803/mean-of-data-scaled-with-sklearn-standardscaler-is-not-zero)."
   ]
  },
  {
   "cell_type": "code",
   "execution_count": 12,
   "metadata": {},
   "outputs": [],
   "source": [
    "from sklearn.preprocessing import StandardScaler\n",
    "from sklearn.pipeline import Pipeline"
   ]
  },
  {
   "cell_type": "code",
   "execution_count": 13,
   "metadata": {},
   "outputs": [
    {
     "name": "stdout",
     "output_type": "stream",
     "text": [
      "[[ 1.81923762  1.77886545  0.77558214  1.13735981  1.09894429  1.77680627]\n",
      " [ 0.66714832 -0.03160087  0.77558214  0.63231549  1.09894429  0.48585943]\n",
      " [-0.0418297  -0.52536441 -0.09979274 -0.37777315  0.01730621 -0.95404281]\n",
      " ...\n",
      " [ 1.19888185  2.10804114  1.65095702  1.13735981  1.63976333  1.62785086]\n",
      " [-0.39631872 -0.68995225  0.77558214  0.63231549  1.63976333 -0.24236699]\n",
      " [ 0.93301508  0.95592621  0.77558214  1.13735981  1.09894429  0.76721964]]\n",
      "StandardScaler(copy=True, with_mean=True, with_std=True)\n",
      "[316.1     107.145     3.11      3.3525    3.48875   8.57505]\n"
     ]
    },
    {
     "data": {
      "text/plain": [
       "array([[ 1.31585605,  1.43611217,  1.62791966,  0.64847547,  0.55314784,\n",
       "         1.13562901],\n",
       "       [-0.18545622, -0.18569717, -0.9560798 ,  0.64847547,  0.01217196,\n",
       "        -0.53892431],\n",
       "       [ 2.02235595,  1.43611217,  0.76658651,  0.64847547,  0.01217196,\n",
       "         2.03093475],\n",
       "       [ 0.9626061 ,  1.27393124,  0.76658651,  0.14772221,  0.55314784,\n",
       "         0.93667218],\n",
       "       [-1.77508098, -1.64532558, -0.9560798 , -1.85529083, -1.6107557 ,\n",
       "        -1.28501243],\n",
       "       [-0.80364363,  0.30084563, -0.09474665,  0.64847547, -0.52880393,\n",
       "        -0.95341771],\n",
       "       [-1.33351855, -1.32096371, -0.09474665, -0.85378431, -1.6107557 ,\n",
       "        -0.2073296 ],\n",
       "       [ 1.13923108,  1.1117503 ,  1.62791966,  1.14922873,  1.63509962,\n",
       "         1.01957086],\n",
       "       [-0.53870617, -1.32096371, -0.9560798 , -1.85529083, -1.6107557 ,\n",
       "        -2.11399922],\n",
       "       [ 1.13923108,  0.6252075 ,  0.76658651,  1.14922873,  0.55314784,\n",
       "         1.0858898 ],\n",
       "       [-1.42183104, -1.96968745, -0.9560798 , -0.35303105, -2.15173159,\n",
       "        -0.58866352],\n",
       "       [ 0.78598113,  1.1117503 , -0.09474665,  0.14772221, -0.52880393,\n",
       "         0.77087482],\n",
       "       [-1.42183104, -0.99660184, -0.09474665,  0.14772221, -1.06977982,\n",
       "        -1.15237454],\n",
       "       [-0.00883125, -0.83442091, -0.09474665, -1.35453757, -0.52880393,\n",
       "        -1.94820186],\n",
       "       [-0.00883125, -1.48314464, -1.81741295, -1.85529083, -1.6107557 ,\n",
       "        -1.89846266],\n",
       "       [ 0.3444187 ,  0.6252075 ,  0.76658651,  1.14922873,  0.01217196,\n",
       "         0.48901931],\n",
       "       [ 0.07948124, -0.18569717, -0.09474665,  0.64847547,  0.01217196,\n",
       "        -0.12443092],\n",
       "       [ 1.13923108,  0.6252075 ,  0.76658651,  1.14922873,  1.09412373,\n",
       "         1.00299112],\n",
       "       [-0.53870617,  0.46302657, -1.81741295, -1.85529083,  0.55314784,\n",
       "        -2.23005737],\n",
       "       [ 0.25610621, -0.18569717, -0.09474665,  0.64847547, -0.52880393,\n",
       "        -0.95341771],\n",
       "       [ 0.9626061 , -0.67223997, -0.09474665,  0.64847547,  0.55314784,\n",
       "        -0.45602564],\n",
       "       [-2.3049559 , -1.15878278, -1.81741295, -1.85529083, -1.6107557 ,\n",
       "        -1.68292609],\n",
       "       [-0.00883125,  0.46302657, -0.09474665,  0.14772221,  0.55314784,\n",
       "        -0.0249525 ],\n",
       "       [ 0.78598113, -0.02351624, -0.09474665, -0.35303105,  0.01217196,\n",
       "         0.88693297],\n",
       "       [ 0.9626061 ,  1.43611217,  0.76658651,  0.64847547,  1.09412373,\n",
       "         1.5003832 ],\n",
       "       [-0.45039368, -0.51005904, -0.09474665,  0.14772221, -1.6107557 ,\n",
       "        -0.62182299],\n",
       "       [-1.51014352, -1.64532558, -0.09474665,  1.649982  ,  0.01217196,\n",
       "        -1.51712873],\n",
       "       [-0.71533114, -0.18569717, -0.09474665,  0.14772221, -1.06977982,\n",
       "        -0.60524326],\n",
       "       [ 1.58079351,  1.92265498,  1.62791966,  1.14922873,  1.09412373,\n",
       "         1.5003832 ],\n",
       "       [-0.09714374, -0.02351624, -0.9560798 ,  0.64847547, -0.52880393,\n",
       "        -0.12443092],\n",
       "       [-0.3620812 ,  0.1386647 , -0.09474665,  0.14772221, -0.52880393,\n",
       "        -0.07469171],\n",
       "       [-1.06858109, -0.51005904, -0.09474665, -0.85378431, -1.6107557 ,\n",
       "        -0.75446088],\n",
       "       [ 0.87429362,  1.1117503 , -0.09474665, -0.35303105, -0.52880393,\n",
       "         0.88693297],\n",
       "       [-1.24520606, -0.99660184, -0.9560798 , -0.85378431,  0.01217196,\n",
       "        -1.01973665],\n",
       "       [ 0.9626061 ,  0.94956937,  0.76658651,  1.14922873,  1.09412373,\n",
       "         0.88693297],\n",
       "       [-0.9802686 , -0.02351624, -0.9560798 , -0.85378431, -1.06977982,\n",
       "        -0.2570688 ],\n",
       "       [ 0.69766864,  0.6252075 ,  0.76658651, -0.35303105, -0.52880393,\n",
       "         0.72113561],\n",
       "       [-1.15689358, -1.32096371, -0.09474665, -1.35453757, -1.06977982,\n",
       "        -1.51712873],\n",
       "       [-0.00883125, -0.51005904, -0.09474665, -0.35303105,  0.01217196,\n",
       "        -0.95341771],\n",
       "       [-0.3620812 , -1.15878278, -1.81741295, -0.35303105, -0.52880393,\n",
       "        -0.07469171],\n",
       "       [ 2.11066843,  0.94956937,  0.76658651,  1.649982  ,  1.63509962,\n",
       "         1.93145633],\n",
       "       [ 0.43273118,  0.30084563,  0.76658651,  0.64847547,  0.55314784,\n",
       "         0.92009244],\n",
       "       [ 0.3444187 , -0.51005904, -0.09474665, -0.35303105, -1.06977982,\n",
       "        -0.00837277],\n",
       "       [ 0.9626061 ,  0.94956937, -0.09474665,  0.14772221, -0.52880393,\n",
       "         0.14084486],\n",
       "       [-0.18545622, -0.18569717, -0.09474665, -0.35303105,  1.63509962,\n",
       "         0.53875852],\n",
       "       [ 0.07948124, -0.02351624, -0.09474665,  0.64847547, -0.52880393,\n",
       "         0.2071638 ],\n",
       "       [ 0.3444187 , -0.51005904, -0.09474665, -0.35303105,  0.01217196,\n",
       "         0.27348274],\n",
       "       [ 2.11066843,  1.27393124,  1.62791966,  1.14922873,  1.09412373,\n",
       "         1.45064399],\n",
       "       [ 1.58079351,  1.1117503 ,  0.76658651,  0.64847547,  0.55314784,\n",
       "         1.41748452],\n",
       "       [-1.6867685 , -1.80750651, -0.9560798 , -0.85378431, -1.6107557 ,\n",
       "        -1.89846266],\n",
       "       [-0.3620812 , -0.3478781 , -0.9560798 , -1.85529083, -0.52880393,\n",
       "        -0.19074986],\n",
       "       [-0.80364363, -0.83442091, -0.09474665, -0.35303105, -0.52880393,\n",
       "        -0.50576484],\n",
       "       [ 0.78598113, -0.18569717, -0.09474665,  0.14772221,  0.55314784,\n",
       "        -0.29022828],\n",
       "       [ 0.3444187 , -0.99660184, -0.9560798 , -0.85378431, -0.52880393,\n",
       "         0.07452591],\n",
       "       [-1.06858109, -1.15878278, -0.9560798 ,  0.14772221, -0.52880393,\n",
       "        -0.58866352],\n",
       "       [ 0.43273118, -0.02351624, -0.9560798 , -1.35453757, -2.15173159,\n",
       "        -0.22390933],\n",
       "       [ 0.9626061 ,  0.94956937,  0.76658651,  1.14922873,  1.09412373,\n",
       "         0.77087482],\n",
       "       [ 0.43273118,  0.30084563, -0.09474665, -0.35303105, -0.52880393,\n",
       "        -0.05811197],\n",
       "       [ 0.9626061 ,  0.30084563, -0.09474665,  0.14772221,  0.55314784,\n",
       "         0.32322195],\n",
       "       [ 0.69766864,  0.94956937,  0.76658651,  1.14922873,  0.55314784,\n",
       "         0.35638142],\n",
       "       [ 0.3444187 ,  0.46302657,  1.62791966,  1.649982  ,  1.63509962,\n",
       "         1.03615059],\n",
       "       [ 0.9626061 ,  0.6252075 ,  0.76658651, -0.35303105,  0.55314784,\n",
       "        -0.29022828],\n",
       "       [ 2.02235595,  1.92265498,  1.62791966,  1.14922873,  0.55314784,\n",
       "         1.86513739],\n",
       "       [ 1.49248103,  1.76047404,  1.62791966,  1.649982  ,  1.63509962,\n",
       "         1.28484663],\n",
       "       [-0.80364363, -0.02351624, -0.9560798 , -0.35303105,  0.01217196,\n",
       "        -0.09127145],\n",
       "       [-0.18545622, -0.3478781 , -0.9560798 , -0.85378431, -1.6107557 ,\n",
       "        -1.5502882 ],\n",
       "       [ 0.69766864,  0.78738844,  1.62791966,  1.649982  ,  1.63509962,\n",
       "         0.83719376],\n",
       "       [-0.45039368, -0.51005904, -0.9560798 , -0.85378431,  0.01217196,\n",
       "        -0.15759039],\n",
       "       [-0.71533114, -0.18569717, -0.09474665, -0.35303105, -0.52880393,\n",
       "        -0.55550405],\n",
       "       [-1.24520606,  0.46302657, -0.09474665,  0.64847547,  1.09412373,\n",
       "        -0.12443092],\n",
       "       [ 0.9626061 ,  0.94956937,  0.76658651,  0.14772221, -0.52880393,\n",
       "         0.19058406],\n",
       "       [ 1.40416854,  0.1386647 ,  1.62791966,  1.14922873,  0.55314784,\n",
       "         0.73771535],\n",
       "       [-1.24520606, -1.32096371, -0.09474665, -0.85378431, -0.52880393,\n",
       "        -1.86530318],\n",
       "       [-1.15689358, -0.3478781 ,  1.62791966,  1.649982  ,  1.09412373,\n",
       "         0.12426512],\n",
       "       [ 0.25610621,  0.1386647 , -0.09474665, -0.35303105,  0.01217196,\n",
       "        -0.05811197],\n",
       "       [-0.09714374, -1.32096371, -0.9560798 ,  0.14772221, -0.52880393,\n",
       "        -1.13579481],\n",
       "       [ 0.25610621,  0.46302657, -0.09474665, -0.35303105, -1.06977982,\n",
       "         0.35638142],\n",
       "       [ 0.16779372, -0.18569717, -0.9560798 ,  0.64847547,  0.55314784,\n",
       "        -1.0860556 ],\n",
       "       [ 1.31585605,  0.78738844,  1.62791966,  0.64847547,  1.63509962,\n",
       "         2.03093475],\n",
       "       [ 1.13923108,  0.46302657, -0.9560798 ,  0.64847547, -0.52880393,\n",
       "         0.95325191],\n",
       "       [ 0.16779372,  0.78738844, -0.09474665,  0.64847547,  0.01217196,\n",
       "         0.15742459],\n",
       "       [ 0.9626061 ,  0.94956937,  0.76658651,  1.14922873,  1.63509962,\n",
       "         0.93667218],\n",
       "       [-0.18545622, -1.32096371,  0.76658651,  0.14772221,  1.09412373,\n",
       "         0.25690301],\n",
       "       [ 1.05091859,  0.46302657,  0.76658651,  1.649982  ,  0.55314784,\n",
       "         0.93667218],\n",
       "       [-0.00883125, -0.67223997, -0.09474665,  0.14772221, -1.6107557 ,\n",
       "        -1.48396926],\n",
       "       [ 0.43273118,  0.6252075 ,  1.62791966,  1.649982  ,  1.63509962,\n",
       "         1.45064399],\n",
       "       [ 0.52104367,  0.78738844,  0.76658651,  0.14772221, -1.06977982,\n",
       "         0.73771535],\n",
       "       [ 0.9626061 ,  0.78738844, -0.09474665, -0.35303105, -0.52880393,\n",
       "         0.24032327],\n",
       "       [-0.45039368, -0.67223997, -0.09474665, -1.35453757,  0.55314784,\n",
       "        -0.80420009],\n",
       "       [-1.15689358, -0.83442091, -0.09474665,  0.14772221, -0.52880393,\n",
       "        -0.12443092],\n",
       "       [-0.18545622, -0.02351624, -0.9560798 , -0.85378431,  0.55314784,\n",
       "        -0.50576484],\n",
       "       [ 0.16779372,  0.46302657, -1.81741295, -0.85378431,  0.01217196,\n",
       "        -0.05811197],\n",
       "       [ 2.11066843,  2.08483591,  0.76658651,  1.649982  ,  1.63509962,\n",
       "         1.53354267],\n",
       "       [ 0.52104367,  0.46302657, -0.09474665,  0.64847547,  1.63509962,\n",
       "         0.10768538],\n",
       "       [ 0.60935616,  0.1386647 , -0.09474665,  0.14772221, -0.52880393,\n",
       "         0.04136644],\n",
       "       [ 0.52104367,  0.78738844,  0.76658651,  1.14922873,  1.09412373,\n",
       "         1.13562901],\n",
       "       [ 0.07948124, -0.67223997, -0.9560798 , -0.85378431, -1.6107557 ,\n",
       "        -0.70472167],\n",
       "       [-1.33351855, -1.48314464, -1.81741295, -1.35453757, -0.52880393,\n",
       "        -0.9036785 ],\n",
       "       [ 1.05091859,  0.1386647 ,  0.76658651,  1.14922873,  0.55314784,\n",
       "         1.00299112],\n",
       "       [-0.71533114, -0.99660184, -0.9560798 , -0.35303105,  0.55314784,\n",
       "        -1.11921507]])"
      ]
     },
     "execution_count": 13,
     "metadata": {},
     "output_type": "execute_result"
    }
   ],
   "source": [
    "from sklearn import preprocessing\n",
    "X_scaled=preprocessing.scale(X)\n",
    "print(X_scaled)\n",
    "\n",
    "scaler = preprocessing.StandardScaler().fit(X_train)\n",
    "print(scaler)\n",
    "print(scaler.mean_)\n",
    "scaler.transform(X_train)\n",
    "scaler.transform(X_test)"
   ]
  },
  {
   "cell_type": "code",
   "execution_count": 14,
   "metadata": {},
   "outputs": [
    {
     "name": "stdout",
     "output_type": "stream",
     "text": [
      "-3.304023721284466e-16\n",
      "1.0\n"
     ]
    }
   ],
   "source": [
    "y_scaled=preprocessing.scale(y)\n",
    "y_scaled\n",
    "print(y_scaled.mean())\n",
    "print(y_scaled.std())"
   ]
  },
  {
   "cell_type": "markdown",
   "metadata": {},
   "source": [
    "# Creating the model"
   ]
  },
  {
   "cell_type": "code",
   "execution_count": 15,
   "metadata": {},
   "outputs": [],
   "source": [
    "from sklearn.svm import SVR\n",
    "from sklearn.preprocessing import StandardScaler\n",
    "from sklearn.model_selection import permutation_test_score\n",
    "from sklearn.utils import shuffle"
   ]
  },
  {
   "cell_type": "code",
   "execution_count": 16,
   "metadata": {},
   "outputs": [],
   "source": [
    "svr = SVR(kernel='linear',epsilon = 0.1, C = 30)"
   ]
  },
  {
   "cell_type": "code",
   "execution_count": 17,
   "metadata": {},
   "outputs": [
    {
     "data": {
      "text/plain": [
       "SVR(C=30, cache_size=200, coef0=0.0, degree=3, epsilon=0.1, gamma='scale',\n",
       "    kernel='linear', max_iter=-1, shrinking=True, tol=0.001, verbose=False)"
      ]
     },
     "execution_count": 17,
     "metadata": {},
     "output_type": "execute_result"
    }
   ],
   "source": [
    "svr.fit(X_scaled, y_scaled)"
   ]
  },
  {
   "cell_type": "code",
   "execution_count": 18,
   "metadata": {},
   "outputs": [],
   "source": [
    "pred_svr = svr.predict(X_test) # This is where we predict the original model. "
   ]
  },
  {
   "cell_type": "markdown",
   "metadata": {},
   "source": [
    "Here we need to shuffle (permute) \n",
    "\n",
    "beta_arr = np.array([])\n",
    "count = 0\n",
    "r_squared_arr = np.array([])\n",
    "p_value= np.array([])\n",
    "weights = np.array([])\n",
    "\n",
    "We need a while loop which first initializes the count at 0. Then the while loop will be:\n",
    "\n",
    "for ii in  range(10001)\n",
    "    y_scaled = shuffle(y_scaled) # random state gives you the option to pseudo randomize the permutation operation of 'shuffle'. \n",
    "    svr.fit(X_scaled, y_scaled)\n",
    "    np.beta_arr.append(beta value from model)\n",
    "    np.r_squared_arr.append(r^2 value from model)\n",
    "    np.p_value.append([])\n",
    "    np.weights.append([])\n",
    "    count = count + 1\n",
    "end \n",
    "    \n",
    "    "
   ]
  },
  {
   "cell_type": "code",
   "execution_count": 19,
   "metadata": {},
   "outputs": [],
   "source": [
    "\n",
    "\n",
    "#count = 0\n",
    "#while count < 50:\n",
    "#    print \"Some thing\"\n",
    "#    count = count + 1"
   ]
  },
  {
   "cell_type": "code",
   "execution_count": 20,
   "metadata": {},
   "outputs": [],
   "source": [
    "pred_SVR = svr.predict(X_test)\n"
   ]
  },
  {
   "cell_type": "code",
   "execution_count": 21,
   "metadata": {},
   "outputs": [],
   "source": [
    "from sklearn.metrics import accuracy_score"
   ]
  },
  {
   "cell_type": "code",
   "execution_count": 1,
   "metadata": {},
   "outputs": [
    {
     "ename": "NameError",
     "evalue": "name 'svr' is not defined",
     "output_type": "error",
     "traceback": [
      "\u001b[1;31m---------------------------------------------------------------------------\u001b[0m",
      "\u001b[1;31mNameError\u001b[0m                                 Traceback (most recent call last)",
      "\u001b[1;32m<ipython-input-1-888aba0a696d>\u001b[0m in \u001b[0;36m<module>\u001b[1;34m\u001b[0m\n\u001b[1;32m----> 1\u001b[1;33m \u001b[0mhyp_score\u001b[0m \u001b[1;33m=\u001b[0m\u001b[0msvr\u001b[0m\u001b[1;33m.\u001b[0m\u001b[0mscore\u001b[0m\u001b[1;33m(\u001b[0m\u001b[0mX_scaled\u001b[0m\u001b[1;33m,\u001b[0m \u001b[0my_scaled\u001b[0m\u001b[1;33m.\u001b[0m\u001b[0mvalues\u001b[0m\u001b[1;33m.\u001b[0m\u001b[0mravel\u001b[0m\u001b[1;33m(\u001b[0m\u001b[1;33m)\u001b[0m\u001b[1;33m)\u001b[0m\u001b[1;33m\u001b[0m\u001b[1;33m\u001b[0m\u001b[0m\n\u001b[0m",
      "\u001b[1;31mNameError\u001b[0m: name 'svr' is not defined"
     ]
    }
   ],
   "source": [
    "hyp_score =svr.score(X_scaled, y_scaled.values.ravel())"
   ]
  },
  {
   "cell_type": "markdown",
   "metadata": {},
   "source": [
    "Randomize the predicted score to the inputs---permutation testing---10,000 --model better than chance\n",
    "And also permutation testing for betas that come out of the model----output in matrix region x region specific matrix.\n",
    "\n",
    "\n",
    "Things that permute the organization of the network itself\n",
    "\n",
    "feature set be limited to 0 or 1s"
   ]
  },
  {
   "cell_type": "code",
   "execution_count": 23,
   "metadata": {},
   "outputs": [
    {
     "data": {
      "text/plain": [
       "{'C': 30,\n",
       " 'cache_size': 200,\n",
       " 'coef0': 0.0,\n",
       " 'degree': 3,\n",
       " 'epsilon': 0.1,\n",
       " 'gamma': 'scale',\n",
       " 'kernel': 'linear',\n",
       " 'max_iter': -1,\n",
       " 'shrinking': True,\n",
       " 'tol': 0.001,\n",
       " 'verbose': False}"
      ]
     },
     "execution_count": 23,
     "metadata": {},
     "output_type": "execute_result"
    }
   ],
   "source": [
    "svr.get_params(deep=True)"
   ]
  },
  {
   "cell_type": "code",
   "execution_count": 24,
   "metadata": {},
   "outputs": [
    {
     "data": {
      "text/plain": [
       "array([[0.21278058, 0.10349913, 0.05804293, 0.03020908, 0.09285087,\n",
       "        0.47931896]])"
      ]
     },
     "execution_count": 24,
     "metadata": {},
     "output_type": "execute_result"
    }
   ],
   "source": [
    "svr.coef_"
   ]
  },
  {
   "cell_type": "code",
   "execution_count": 25,
   "metadata": {},
   "outputs": [],
   "source": [
    "perm_svr = SVR(kernel='linear',epsilon = 0.1, C = 30)\n",
    "beta_arr = np.array([]) # beta weights as they are returned by fitting the model\n",
    "count = 0\n",
    "r_squared_arr = np.array([])\n",
    "weights = np.array([])\n"
   ]
  },
  {
   "cell_type": "code",
   "execution_count": 26,
   "metadata": {},
   "outputs": [
    {
     "name": "stdout",
     "output_type": "stream",
     "text": [
      "27.11743950843811\n"
     ]
    }
   ],
   "source": [
    "import time\n",
    "\n",
    "start = time.time()\n",
    "\n",
    "\n",
    "for ii in range(200):\n",
    "    y_scaled = shuffle(y_scaled) # Will randomly permute the y-target vector\n",
    "    perm_svr.fit(X_scaled, y_scaled) # fits the randomly permuted target vector to the feature set (connections between and within each region)\n",
    "    beta_arr = np.append(beta_arr, perm_svr.coef_) # appends the beta weights of each feature (i.e. connections between and within each region)\n",
    "    r_squared_arr = np.append(r_squared_arr, perm_svr.score(X_scaled, y_scaled)) # appends the r^2 value for each model which will create the null distribution\n",
    "    count = count + 1 # iterative counter which if ii = >=10000 it will kill the loop.\n",
    "\n",
    "    \n",
    "end = time.time()\n",
    "print(end-start)"
   ]
  },
  {
   "cell_type": "code",
   "execution_count": 27,
   "metadata": {},
   "outputs": [
    {
     "data": {
      "text/plain": [
       "array([-0.10140424, -0.00855149, -0.04816248, ..., -0.04577796,\n",
       "       -0.01392942, -0.0322439 ])"
      ]
     },
     "execution_count": 27,
     "metadata": {},
     "output_type": "execute_result"
    }
   ],
   "source": [
    "beta_arr"
   ]
  },
  {
   "cell_type": "code",
   "execution_count": 28,
   "metadata": {},
   "outputs": [
    {
     "data": {
      "text/plain": [
       "200"
      ]
     },
     "execution_count": 28,
     "metadata": {},
     "output_type": "execute_result"
    }
   ],
   "source": [
    "count"
   ]
  },
  {
   "cell_type": "code",
   "execution_count": 29,
   "metadata": {},
   "outputs": [
    {
     "data": {
      "text/plain": [
       "array([ 7.06049073e-03,  1.55570883e-02,  5.98387882e-03,  3.91999235e-04,\n",
       "        6.63803383e-03,  1.30081374e-02,  5.97010492e-03, -5.20244280e-03,\n",
       "        1.75682963e-03,  9.73824586e-03,  5.60513165e-03,  1.09234533e-02,\n",
       "        4.95640689e-03,  5.67427547e-04,  3.62264666e-04,  6.35720826e-03,\n",
       "        7.61205397e-03,  1.41244456e-02,  3.49920328e-03,  1.32704714e-02,\n",
       "        2.58459668e-03,  1.64108116e-03,  3.70557747e-03,  5.81096387e-03,\n",
       "       -2.69545461e-04,  4.44327810e-03,  7.54898985e-03,  1.32429284e-02,\n",
       "        2.45262308e-02,  1.87232510e-02,  1.70594650e-03,  3.80180853e-03,\n",
       "        7.52820691e-03, -1.36498041e-03,  8.96031458e-03,  2.96195685e-03,\n",
       "        1.60374023e-03,  7.29374794e-03, -1.43798851e-03,  1.10618273e-02,\n",
       "        8.83194899e-03,  2.10837232e-02,  3.46151180e-03, -3.74957837e-03,\n",
       "        5.61248857e-03,  6.80300378e-03,  7.51868624e-03,  2.37292666e-03,\n",
       "        4.13010444e-03,  2.45290868e-02,  5.93574636e-03,  1.07162825e-02,\n",
       "        7.67536436e-03, -1.50234977e-03,  4.60377478e-03,  5.16641691e-02,\n",
       "        1.84774157e-04,  4.06236004e-03,  1.08950461e-02,  3.37040871e-03,\n",
       "        8.38234461e-03,  4.01351620e-04, -3.95764649e-03,  1.09929200e-02,\n",
       "        7.65074013e-03,  9.54958954e-03,  1.10221862e-02, -4.76925968e-03,\n",
       "        7.63488068e-04,  4.52384297e-04,  5.48087903e-03,  1.09105564e-02,\n",
       "        1.19645696e-02,  6.46375375e-03, -2.79401053e-04,  7.17927055e-03,\n",
       "        1.41518124e-02,  2.44518265e-02,  7.41078209e-03,  1.17674965e-02,\n",
       "        1.10358079e-02,  1.30170417e-02, -7.05946443e-04,  9.52905445e-04,\n",
       "        1.88582446e-02,  2.07618863e-02,  1.16070873e-02,  5.43891233e-03,\n",
       "        2.27232901e-03,  8.04497801e-03,  7.83495257e-03,  1.82384355e-03,\n",
       "       -8.45921011e-04,  8.56497548e-03, -2.23833628e-03, -9.46159535e-04,\n",
       "        5.12869801e-03,  5.79836979e-03,  9.98598435e-03, -1.65119053e-03,\n",
       "        6.15067457e-03,  1.55014320e-02,  1.21867552e-02,  6.79796939e-03,\n",
       "        1.15187332e-02,  4.67369966e-03,  5.25840336e-03,  3.29980370e-03,\n",
       "        1.94908073e-02,  1.58277397e-02,  6.03340008e-04,  1.81125980e-02,\n",
       "        8.01647810e-03,  2.17202919e-03,  3.73367929e-03,  2.53088769e-03,\n",
       "        1.39382413e-02,  1.21743791e-02,  1.36430846e-02,  1.28272277e-02,\n",
       "        2.47459020e-02,  2.28677082e-02,  7.09943180e-04,  1.86691246e-02,\n",
       "       -1.18713132e-03,  1.12493286e-02,  1.41934266e-02,  9.53020317e-03,\n",
       "        2.37698174e-03,  5.54522605e-03,  6.46052805e-03,  8.30642830e-03,\n",
       "        7.47084573e-03, -2.19231524e-03,  3.91209924e-03,  5.45052793e-05,\n",
       "        5.15320719e-03,  3.07921927e-04,  1.17090054e-02, -4.65654070e-03,\n",
       "        7.59393210e-03,  1.91690826e-02,  3.34347348e-02,  5.48900442e-03,\n",
       "        1.58361688e-02, -3.99550867e-03,  1.60875218e-02,  1.04864587e-04,\n",
       "        8.01098182e-03,  1.24423891e-02,  5.96105888e-03,  3.36585350e-03,\n",
       "        3.35182703e-03,  9.99652173e-03,  1.57296175e-02,  3.89032360e-04,\n",
       "        2.01503627e-02,  1.45731275e-02,  5.19022509e-04,  1.45436408e-03,\n",
       "        2.10541863e-03, -1.56460054e-03,  1.09468011e-02,  5.34298959e-03,\n",
       "        1.59366327e-03, -4.61499010e-04,  4.31704410e-03,  2.09490956e-03,\n",
       "        2.28817943e-03,  9.27079386e-03,  3.95767740e-02,  5.47408328e-03,\n",
       "        1.52599541e-02,  2.11194329e-02,  8.03247783e-03,  4.05955218e-03,\n",
       "        1.02225727e-03, -2.91516897e-03,  1.24283857e-02,  1.82098127e-02,\n",
       "       -4.03027504e-03, -9.54074726e-04, -8.22732708e-04,  1.48619655e-02,\n",
       "       -1.82167742e-03, -5.76812777e-03, -4.66842739e-03,  1.41564062e-04,\n",
       "        3.90530828e-03,  1.16443531e-02, -5.85671516e-03,  5.45406350e-03,\n",
       "        2.25120080e-03,  1.37783733e-03,  1.87469856e-02,  9.80195837e-03,\n",
       "       -3.25024911e-03,  5.14829019e-04,  1.06351656e-02,  3.22365788e-03])"
      ]
     },
     "execution_count": 29,
     "metadata": {},
     "output_type": "execute_result"
    }
   ],
   "source": [
    "r_squared_arr"
   ]
  },
  {
   "cell_type": "code",
   "execution_count": 30,
   "metadata": {},
   "outputs": [
    {
     "name": "stdout",
     "output_type": "stream",
     "text": [
      "[ 7.06049073e-03  1.55570883e-02  5.98387882e-03  3.91999235e-04\n",
      "  6.63803383e-03  1.30081374e-02  5.97010492e-03 -5.20244280e-03\n",
      "  1.75682963e-03  9.73824586e-03  5.60513165e-03  1.09234533e-02\n",
      "  4.95640689e-03  5.67427547e-04  3.62264666e-04  6.35720826e-03\n",
      "  7.61205397e-03  1.41244456e-02  3.49920328e-03  1.32704714e-02\n",
      "  2.58459668e-03  1.64108116e-03  3.70557747e-03  5.81096387e-03\n",
      " -2.69545461e-04  4.44327810e-03  7.54898985e-03  1.32429284e-02\n",
      "  2.45262308e-02  1.87232510e-02  1.70594650e-03  3.80180853e-03\n",
      "  7.52820691e-03 -1.36498041e-03  8.96031458e-03  2.96195685e-03\n",
      "  1.60374023e-03  7.29374794e-03 -1.43798851e-03  1.10618273e-02\n",
      "  8.83194899e-03  2.10837232e-02  3.46151180e-03 -3.74957837e-03\n",
      "  5.61248857e-03  6.80300378e-03  7.51868624e-03  2.37292666e-03\n",
      "  4.13010444e-03  2.45290868e-02  5.93574636e-03  1.07162825e-02\n",
      "  7.67536436e-03 -1.50234977e-03  4.60377478e-03  5.16641691e-02\n",
      "  1.84774157e-04  4.06236004e-03  1.08950461e-02  3.37040871e-03\n",
      "  8.38234461e-03  4.01351620e-04 -3.95764649e-03  1.09929200e-02\n",
      "  7.65074013e-03  9.54958954e-03  1.10221862e-02 -4.76925968e-03\n",
      "  7.63488068e-04  4.52384297e-04  5.48087903e-03  1.09105564e-02\n",
      "  1.19645696e-02  6.46375375e-03 -2.79401053e-04  7.17927055e-03\n",
      "  1.41518124e-02  2.44518265e-02  7.41078209e-03  1.17674965e-02\n",
      "  1.10358079e-02  1.30170417e-02 -7.05946443e-04  9.52905445e-04\n",
      "  1.88582446e-02  2.07618863e-02  1.16070873e-02  5.43891233e-03\n",
      "  2.27232901e-03  8.04497801e-03  7.83495257e-03  1.82384355e-03\n",
      " -8.45921011e-04  8.56497548e-03 -2.23833628e-03 -9.46159535e-04\n",
      "  5.12869801e-03  5.79836979e-03  9.98598435e-03 -1.65119053e-03\n",
      "  6.15067457e-03  1.55014320e-02  1.21867552e-02  6.79796939e-03\n",
      "  1.15187332e-02  4.67369966e-03  5.25840336e-03  3.29980370e-03\n",
      "  1.94908073e-02  1.58277397e-02  6.03340008e-04  1.81125980e-02\n",
      "  8.01647810e-03  2.17202919e-03  3.73367929e-03  2.53088769e-03\n",
      "  1.39382413e-02  1.21743791e-02  1.36430846e-02  1.28272277e-02\n",
      "  2.47459020e-02  2.28677082e-02  7.09943180e-04  1.86691246e-02\n",
      " -1.18713132e-03  1.12493286e-02  1.41934266e-02  9.53020317e-03\n",
      "  2.37698174e-03  5.54522605e-03  6.46052805e-03  8.30642830e-03\n",
      "  7.47084573e-03 -2.19231524e-03  3.91209924e-03  5.45052793e-05\n",
      "  5.15320719e-03  3.07921927e-04  1.17090054e-02 -4.65654070e-03\n",
      "  7.59393210e-03  1.91690826e-02  3.34347348e-02  5.48900442e-03\n",
      "  1.58361688e-02 -3.99550867e-03  1.60875218e-02  1.04864587e-04\n",
      "  8.01098182e-03  1.24423891e-02  5.96105888e-03  3.36585350e-03\n",
      "  3.35182703e-03  9.99652173e-03  1.57296175e-02  3.89032360e-04\n",
      "  2.01503627e-02  1.45731275e-02  5.19022509e-04  1.45436408e-03\n",
      "  2.10541863e-03 -1.56460054e-03  1.09468011e-02  5.34298959e-03\n",
      "  1.59366327e-03 -4.61499010e-04  4.31704410e-03  2.09490956e-03\n",
      "  2.28817943e-03  9.27079386e-03  3.95767740e-02  5.47408328e-03\n",
      "  1.52599541e-02  2.11194329e-02  8.03247783e-03  4.05955218e-03\n",
      "  1.02225727e-03 -2.91516897e-03  1.24283857e-02  1.82098127e-02\n",
      " -4.03027504e-03 -9.54074726e-04 -8.22732708e-04  1.48619655e-02\n",
      " -1.82167742e-03 -5.76812777e-03 -4.66842739e-03  1.41564062e-04\n",
      "  3.90530828e-03  1.16443531e-02 -5.85671516e-03  5.45406350e-03\n",
      "  2.25120080e-03  1.37783733e-03  1.87469856e-02  9.80195837e-03\n",
      " -3.25024911e-03  5.14829019e-04  1.06351656e-02  3.22365788e-03]\n"
     ]
    }
   ],
   "source": [
    "print(r_squared_arr)"
   ]
  },
  {
   "cell_type": "code",
   "execution_count": 31,
   "metadata": {},
   "outputs": [
    {
     "data": {
      "text/plain": [
       "<matplotlib.lines.Line2D at 0x20296d66cc8>"
      ]
     },
     "execution_count": 31,
     "metadata": {},
     "output_type": "execute_result"
    },
    {
     "data": {
      "image/png": "[encoded data removed]",
      "text/plain": [
       "<Figure size 432x288 with 1 Axes>"
      ]
     },
     "metadata": {
      "needs_background": "light"
     },
     "output_type": "display_data"
    }
   ],
   "source": [
    "plt.hist(r_squared_arr, bins=10);\n",
    "plt.axvline(np.median(r_squared_arr), color='k', linestyle='dashed', linewidth=2)\n",
    "plt.axvline(hyp_score, color='green', linestyle='solid', linewidth=2)"
   ]
  },
  {
   "cell_type": "code",
   "execution_count": 32,
   "metadata": {},
   "outputs": [
    {
     "data": {
      "text/plain": [
       "0.8129159608423469"
      ]
     },
     "execution_count": 32,
     "metadata": {},
     "output_type": "execute_result"
    }
   ],
   "source": [
    "hyp_score"
   ]
  },
  {
   "cell_type": "markdown",
   "metadata": {},
   "source": [
    "Here we will now compute the p-value for the number of models which performed at or better than the original model, including the original model itself. "
   ]
  },
  {
   "cell_type": "code",
   "execution_count": 33,
   "metadata": {},
   "outputs": [
    {
     "name": "stdout",
     "output_type": "stream",
     "text": [
      "201\n"
     ]
    }
   ],
   "source": [
    "num_mods = count + 1\n",
    "print(num_mods)"
   ]
  },
  {
   "cell_type": "code",
   "execution_count": 34,
   "metadata": {},
   "outputs": [
    {
     "name": "stdout",
     "output_type": "stream",
     "text": [
      "0\n",
      "0\n",
      "0\n",
      "0\n",
      "0\n",
      "0\n",
      "0\n",
      "0\n",
      "0\n",
      "0\n",
      "0\n",
      "0\n",
      "0\n",
      "0\n",
      "0\n",
      "0\n",
      "0\n",
      "0\n",
      "0\n",
      "0\n",
      "0\n",
      "0\n",
      "0\n",
      "0\n",
      "0\n",
      "0\n",
      "0\n",
      "0\n",
      "0\n",
      "0\n",
      "0\n",
      "0\n",
      "0\n",
      "0\n",
      "0\n",
      "0\n",
      "0\n",
      "0\n",
      "0\n",
      "0\n",
      "0\n",
      "0\n",
      "0\n",
      "0\n",
      "0\n",
      "0\n",
      "0\n",
      "0\n",
      "0\n",
      "0\n",
      "0\n",
      "0\n",
      "0\n",
      "0\n",
      "0\n",
      "0\n",
      "0\n",
      "0\n",
      "0\n",
      "0\n",
      "0\n",
      "0\n",
      "0\n",
      "0\n",
      "0\n",
      "0\n",
      "0\n",
      "0\n",
      "0\n",
      "0\n",
      "0\n",
      "0\n",
      "0\n",
      "0\n",
      "0\n",
      "0\n",
      "0\n",
      "0\n",
      "0\n",
      "0\n",
      "0\n",
      "0\n",
      "0\n",
      "0\n",
      "0\n",
      "0\n",
      "0\n",
      "0\n",
      "0\n",
      "0\n",
      "0\n",
      "0\n",
      "0\n",
      "0\n",
      "0\n",
      "0\n",
      "0\n",
      "0\n",
      "0\n",
      "0\n",
      "0\n",
      "0\n",
      "0\n",
      "0\n",
      "0\n",
      "0\n",
      "0\n",
      "0\n",
      "0\n",
      "0\n",
      "0\n",
      "0\n",
      "0\n",
      "0\n",
      "0\n",
      "0\n",
      "0\n",
      "0\n",
      "0\n",
      "0\n",
      "0\n",
      "0\n",
      "0\n",
      "0\n",
      "0\n",
      "0\n",
      "0\n",
      "0\n",
      "0\n",
      "0\n",
      "0\n",
      "0\n",
      "0\n",
      "0\n",
      "0\n",
      "0\n",
      "0\n",
      "0\n",
      "0\n",
      "0\n",
      "0\n",
      "0\n",
      "0\n",
      "0\n",
      "0\n",
      "0\n",
      "0\n",
      "0\n",
      "0\n",
      "0\n",
      "0\n",
      "0\n",
      "0\n",
      "0\n",
      "0\n",
      "0\n",
      "0\n",
      "0\n",
      "0\n",
      "0\n",
      "0\n",
      "0\n",
      "0\n",
      "0\n",
      "0\n",
      "0\n",
      "0\n",
      "0\n",
      "0\n",
      "0\n",
      "0\n",
      "0\n",
      "0\n",
      "0\n",
      "0\n",
      "0\n",
      "0\n",
      "0\n",
      "0\n",
      "0\n",
      "0\n",
      "0\n",
      "0\n",
      "0\n",
      "0\n",
      "0\n",
      "0\n",
      "0\n",
      "0\n",
      "0\n",
      "0\n",
      "0\n",
      "0\n",
      "0\n",
      "0\n",
      "0\n",
      "0\n",
      "0\n",
      "0\n",
      "0\n"
     ]
    }
   ],
   "source": [
    "num_obs_btr_than_hyp = 0\n",
    "\n",
    "for ii in r_squared_arr:\n",
    "    if ii > hyp_score:\n",
    "        num_obs_btr_than_hyp = num_obs_btr_than_hyp + 1\n",
    "    print(num_obs_btr_than_hyp)"
   ]
  },
  {
   "cell_type": "code",
   "execution_count": 35,
   "metadata": {},
   "outputs": [],
   "source": [
    "num_obs_btr_than_hyp = num_obs_btr_than_hyp + 1 "
   ]
  },
  {
   "cell_type": "code",
   "execution_count": 36,
   "metadata": {},
   "outputs": [
    {
     "data": {
      "text/plain": [
       "0.004975124378109453"
      ]
     },
     "execution_count": 36,
     "metadata": {},
     "output_type": "execute_result"
    }
   ],
   "source": [
    "num_obs_btr_than_hyp/num_mods"
   ]
  },
  {
   "cell_type": "code",
   "execution_count": null,
   "metadata": {},
   "outputs": [],
   "source": []
  }
 ],
 "metadata": {
  "kernelspec": {
   "display_name": "Python 3",
   "language": "python",
   "name": "python3"
  },
  "language_info": {
   "codemirror_mode": {
    "name": "ipython",
    "version": 3
   },
   "file_extension": ".py",
   "mimetype": "text/x-python",
   "name": "python",
   "nbconvert_exporter": "python",
   "pygments_lexer": "ipython3",
   "version": "3.7.4"
  }
 },
 "nbformat": 4,
 "nbformat_minor": 2
}
